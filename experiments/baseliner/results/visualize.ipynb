{
 "cells": [
  {
   "cell_type": "markdown",
   "metadata": {},
   "source": [
    "# Ceph Baseliner\n",
    "In order for Mantle and ZLog experiments to be valid, the Ceph cluster must exhibit certain properties. The requirements for the Ceph cluster are enumerated in these sets of experiments. These benchmarks should be run before starting any experiments as a sanity check and to verify that the cluster is working properly. The Ceph configuration and the number of repetitions for these benchmarks can be found in the [group_vars/all](../group_vars/all) configuration file."
   ]
  },
  {
   "cell_type": "code",
   "execution_count": 1,
   "metadata": {
    "collapsed": false
   },
   "outputs": [],
   "source": [
    "import sys\n",
    "import glob\n",
    "import os\n",
    "import re\n",
    "import pandas as pd\n",
    "import warnings\n",
    "warnings.filterwarnings('ignore')\n",
    "import matplotlib\n",
    "import matplotlib.pyplot as plt\n",
    "import numpy as np\n",
    "import datetime\n",
    "%matplotlib inline"
   ]
  },
  {
   "cell_type": "markdown",
   "metadata": {},
   "source": [
    "## RADOSBENCH\n",
    "First, we check the macro-level performance of the cluster. We use the RADOS CLI and configure the benchmarking tool to hammer the cluster with writes for 2 minutes. More specifically, the benchmark achieves this by:\n",
    "\n",
    "```\n",
    "Maintaining 16 concurrent writes of 4194304 bytes to objects of size 4194304 for up to 1 seconds or 0 objects\n",
    "```\n",
    "\n",
    "For further reading, check out this [tutorial](http://tracker.ceph.com/projects/ceph/wiki/Benchmark_Ceph_Cluster_Performance).\n",
    "\n",
    "**Command**: `rados -p rbd bench --show-time 120 write`\n",
    "\n",
    "**Expectation**: sustained throughput equal to the throughput of either the slowest disk or the network speed."
   ]
  },
  {
   "cell_type": "code",
   "execution_count": 4,
   "metadata": {
    "collapsed": false
   },
   "outputs": [],
   "source": [
    "# parse: slurp up the RADOSBENCH output into a Pandas data frame\n",
    "RADOSBENCH_COLHEADERS = (\"date\", \"time\", \"sec\", \"Cur ops\", \"started\", \"finished\", \"avg MB/s\", \"cur MB/s\", \"last lat(s)\", \"avg lat(s)\")\n",
    "\n",
    "df_thruput = pd.DataFrame()\n",
    "for fname in glob.glob(\"radosbench-*\"):\n",
    "    df = pd.DataFrame(columns=RADOSBENCH_COLHEADERS)\n",
    "    with open(fname, \"r\") as input:\n",
    "        for line in input:\n",
    "            if not re.search('[a-zA-Z]', line): # skip lines that don't have raw numbers\n",
    "                df.loc[len(df)] = line.split()  # add this line to end of the data frame\n",
    "    df_thruput[fname] = df['avg MB/s']"
   ]
  },
  {
   "cell_type": "code",
   "execution_count": 10,
   "metadata": {
    "collapsed": false
   },
   "outputs": [
    {
     "name": "stdout",
     "output_type": "stream",
     "text": [
      "radosbench-hosts-run0-2016-09-05_11:41:20.875273\n",
      "radosbench-hosts-run1-2016-09-05_11:43:23.526433\n",
      "radosbench-hosts-run2-2016-09-05_11:45:26.296023\n"
     ]
    },
    {
     "data": {
      "text/plain": [
       "<matplotlib.legend.Legend at 0x7f458024abd0>"
      ]
     },
     "execution_count": 10,
     "metadata": {},
     "output_type": "execute_result"
    },
    {
     "data": {
      "image/png": "[encoded data removed]",
      "text/plain": [
       "<matplotlib.figure.Figure at 0x7f458046d710>"
      ]
     },
     "metadata": {},
     "output_type": "display_data"
    }
   ],
   "source": [
    "# plot: graph a time series of instantaneous throughput\n",
    "\n",
    "fig = plt.figure()\n",
    "ax = fig.add_subplot(111)\n",
    "\n",
    "for fname in sorted(glob.glob(\"radosbench-*\")):\n",
    "    print fname\n",
    "    label = fname.split('-')[2]\n",
    "    ax.plot(df_thruput[fname], markersize=10, linewidth=3.0, label=label)\n",
    "    \n",
    "ax.set_ylabel(\"Thruput (MB/s)\")\n",
    "ax.set_xlabel(\"Tiempo (secs)\")\n",
    "ax.set_ylim(100, 120)\n",
    "\n",
    "ax.legend(loc='center', bbox_to_anchor=(1.2, 0.8))"
   ]
  },
  {
   "cell_type": "markdown",
   "metadata": {},
   "source": [
    "## OSDBENCH\n",
    "Check the performance of each individual OSD using OSD bench tool packaged with the Ceph CLI. This should give the raw write performance going through the Ceph stack (e.g., the \"Ceph IO\"). Specifically: \n",
    "\n",
    "```json\n",
    "{\n",
    "    \"bytes_written\": 1073741824,\n",
    "    \"blocksize\": 4194304,\n",
    "    \"bytes_per_sec\": <???>\n",
    "}\n",
    "```\n",
    "\n",
    "For further reading, check out this [blog](https://www.sebastien-han.fr/blog/2013/10/03/quick-analysis-of-the-ceph-io-layer/).\n",
    "\n",
    "**Command**: form the monitor:\n",
    "```bash\n",
    "for i in `seq 0 <NUM_OSDS>`; do\n",
    "  ceph tell osd.$i bench\n",
    "done\n",
    "```\n",
    "\n",
    "**Expectation**: the performance of RADOS bench should be *close enough* to the speed of the slowest OSD."
   ]
  },
  {
   "cell_type": "code",
   "execution_count": 6,
   "metadata": {
    "collapsed": false
   },
   "outputs": [],
   "source": [
    "# parse: convert the raw results to valid JSON\n",
    "\n",
    "df = pd.DataFrame()\n",
    "for fname in glob.glob(\"osdbench-*\"):\n",
    "    with open(fname, 'rb') as f:\n",
    "        data = f.read().replace('\\n', '')\n",
    "    data = map(lambda x: x.replace(\"}\", \"},\"), data) # separate records with a comma\n",
    "    data[len(data)-1] = \"}\"                          # except the last record; no comma there!\n",
    "    data = \"[\" + ''.join(data) + \"]\"                 # squash it into an array\n",
    "    data = pd.read_json(data)                        # read the data into a data frame\n",
    "    df[fname] = data['bytes_per_sec']/(1024*1024)    # convert to megabytes"
   ]
  },
  {
   "cell_type": "code",
   "execution_count": 7,
   "metadata": {
    "collapsed": false
   },
   "outputs": [
    {
     "data": {
      "text/plain": [
       "<matplotlib.text.Text at 0x7f45805795d0>"
      ]
     },
     "execution_count": 7,
     "metadata": {},
     "output_type": "execute_result"
    },
    {
     "data": {
      "image/png": "[encoded data removed]",
      "text/plain": [
       "<matplotlib.figure.Figure at 0x7f45806712d0>"
      ]
     },
     "metadata": {},
     "output_type": "display_data"
    }
   ],
   "source": [
    "# plot: graph the mean and standard deviation of each OSD's write performance.\n",
    "\n",
    "fig = plt.figure()\n",
    "ax = fig.add_subplot(111)\n",
    "df.mean(axis=1).plot(kind='bar', yerr=df.std(axis=1))\n",
    "\n",
    "ax.set_ylabel(\"Thruput (MB/s)\")\n",
    "ax.set_xlabel(\"OSD #\")"
   ]
  },
  {
   "cell_type": "markdown",
   "metadata": {
    "collapsed": false
   },
   "source": [
    "## NETBENCH\n",
    "Check the performance of the network. We use the the simple network performance benchmarking pool called `iperf`. This gives the raw network transfer speed over TCP. Specifically: \n",
    "\n",
    "```\n",
    "------------------------------------------------------------\n",
    "Server listening on TCP port 5001\n",
    "TCP window size: 85.3 KByte (default)\n",
    "------------------------------------------------------------\n",
    "[ ID] Interval       Transfer     Bandwidth\n",
    "[  4]  0.0-10.0 sec  1.10 GBytes   <???> Mbits/sec\n",
    "```\n",
    "\n",
    "For further reading, check out this [tutorial](http://tracker.ceph.com/projects/ceph/wiki/Benchmark_Ceph_Cluster_Performance).\n",
    "\n",
    "**Command**: `iperf -c <MON_IP>`\n",
    "\n",
    "**Expectation**: the performance of RADOS bench should be *close enough* to the speed of the slowest network connection."
   ]
  },
  {
   "cell_type": "code",
   "execution_count": 8,
   "metadata": {
    "collapsed": false
   },
   "outputs": [],
   "source": [
    "# parse: read in the CSV and specify the format; then calculate the means/stds\n",
    "\n",
    "for fname in glob.glob(\"netbench-*\"):\n",
    "    df = pd.read_csv(fname, names=[\"date\", \"server_ip\", \"server_port\", \"client_ip\", \"client_port\",\n",
    "                                     \"id\", \"interval\", \"transfer\", \"bandwidth\"])\n",
    "means = []\n",
    "error = []\n",
    "for client in df['client_ip'].unique():\n",
    "    data = df[(df['client_ip'] == client)]['bandwidth']/(1000*1000*1000)\n",
    "    means.append(data.mean())\n",
    "    error.append(data.std())"
   ]
  },
  {
   "cell_type": "code",
   "execution_count": 9,
   "metadata": {
    "collapsed": false
   },
   "outputs": [
    {
     "data": {
      "text/plain": [
       "<matplotlib.text.Text at 0x7f4580524d10>"
      ]
     },
     "execution_count": 9,
     "metadata": {},
     "output_type": "execute_result"
    },
    {
     "data": {
      "image/png": "[encoded data removed]",
      "text/plain": [
       "<matplotlib.figure.Figure at 0x7f458277ad50>"
      ]
     },
     "metadata": {},
     "output_type": "display_data"
    }
   ],
   "source": [
    "# plot: graph the mean and standard deviation of each Ceph daemon's connection to the MON\n",
    "\n",
    "fig = plt.figure()\n",
    "ax = fig.add_subplot(111)\n",
    "  \n",
    "x = np.arange(len(means))\n",
    "plt.bar(x, means, width=0.75, \n",
    "        yerr=error, error_kw=dict(ecolor=\"black\", capthick=2))\n",
    "plt.xticks(x, df['client_ip'].unique(), rotation='75')\n",
    "\n",
    "ax.set_ylabel(\"Bandwidth (Gbit/s)\")\n",
    "ax.set_xlabel(\"Host\")"
   ]
  },
  {
   "cell_type": "code",
   "execution_count": null,
   "metadata": {
    "collapsed": true
   },
   "outputs": [],
   "source": []
  }
 ],
 "metadata": {
  "kernelspec": {
   "display_name": "Python 2",
   "language": "python",
   "name": "python2"
  },
  "language_info": {
   "codemirror_mode": {
    "name": "ipython",
    "version": 2
   },
   "file_extension": ".py",
   "mimetype": "text/x-python",
   "name": "python",
   "nbconvert_exporter": "python",
   "pygments_lexer": "ipython2",
   "version": "2.7.11"
  },
  "widgets": {
   "state": {},
   "version": "1.1.2"
  }
 },
 "nbformat": 4,
 "nbformat_minor": 0
}
