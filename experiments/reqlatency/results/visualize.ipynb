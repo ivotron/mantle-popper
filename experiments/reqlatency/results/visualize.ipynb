{
 "cells": [
  {
   "cell_type": "code",
   "execution_count": 4,
   "metadata": {
    "collapsed": false
   },
   "outputs": [],
   "source": [
    "import sys\n",
    "import glob\n",
    "import os\n",
    "import re\n",
    "import pandas as pd\n",
    "import warnings\n",
    "warnings.filterwarnings('ignore')\n",
    "import matplotlib\n",
    "import matplotlib.pyplot as plt\n",
    "import numpy as np\n",
    "import datetime\n",
    "%matplotlib inline"
   ]
  },
  {
   "cell_type": "markdown",
   "metadata": {},
   "source": [
    "# Creates and Readdir Latencies"
   ]
  },
  {
   "cell_type": "code",
   "execution_count": 12,
   "metadata": {
    "collapsed": false
   },
   "outputs": [
    {
     "name": "stdout",
     "output_type": "stream",
     "text": [
      "                       #start            delta   nfile    y       x\n",
      "0  2016-09-19 12:01:44.182217   0:00:00.498330      26    0      10\n",
      "1  2016-09-19 12:04:14.325300   0:00:00.363495     116    0     100\n",
      "2  2016-09-19 12:06:30.109747   0:00:01.008419    1016    1    1000\n",
      "3  2016-09-19 12:08:58.211714   0:00:08.255225   10016    8   10000\n",
      "4  2016-09-19 12:14:50.066013   0:02:12.553243  100016  132  100000\n",
      "0    [ 0, 00, 00.498330]\n",
      "1    [ 0, 00, 00.363495]\n",
      "2    [ 0, 00, 01.008419]\n",
      "3    [ 0, 00, 08.255225]\n",
      "4    [ 0, 02, 12.553243]\n",
      "dtype: object\n"
     ]
    },
    {
     "data": {
      "image/png": "[encoded data removed]",
      "text/plain": [
       "<matplotlib.figure.Figure at 0x7fced31db810>"
      ]
     },
     "metadata": {},
     "output_type": "display_data"
    }
   ],
   "source": [
    "def plot_runtime(ax, f):\n",
    "    df = pd.read_table(f, sep=',')\n",
    "    df['y'] = 0\n",
    "    df['x'] = 0\n",
    "    for index, row in df.iterrows():\n",
    "        h, m, s = row[\"delta\"].split(':')\n",
    "        df['y'][index] = 60.0*60.0*float(h) + 60.0*float(m) + float(s)\n",
    "        df['x'][index] = row['nfile'] - 16\n",
    "    ax.plot(df['x'], df['y'], markersize=30, linewidth=1.0)\n",
    "    ax.set_xscale('log')\n",
    "    print df\n",
    "    print df['delta'].str.split(':')\n",
    "    \n",
    "fig = plt.figure()\n",
    "ax = fig.add_subplot(111)\n",
    "plot_runtime(ax, \"scale-clients/1client/ls_runtimes\")\n",
    "#plot_runtime(ax, \"scale-clients-log/2client/ls_runtimes\")\n",
    "#plot_runtime(ax, \"scale-clients-log/3client/ls_runtimes\")\n",
    "#plot_runtime(ax, \"scale-clients-log/4client/ls_runtimes\")\n",
    "#plot_runtime(ax, \"scale-clients-log/5client/ls_runtimes\")\n",
    "#plot_runtime(ax, \"scale-clients-log/6client/ls_runtimes\")\n",
    "#plot_runtime(ax, \"scale-clients-log/7client/ls_runtimes\")\n",
    "#plot_runtime(ax, \"scale-clients-log/8client/ls_runtimes\")\n",
    "\n",
    "#plot_runtime(ax, \"1client/2client/ls_runtimes\")\n",
    "#plot_runtime(ax, \"test/1client/ls_runtimes\")"
   ]
  },
  {
   "cell_type": "code",
   "execution_count": 8,
   "metadata": {
    "collapsed": false
   },
   "outputs": [
    {
     "name": "stdout",
     "output_type": "stream",
     "text": [
      "['issdm-12']\n"
     ]
    }
   ],
   "source": [
    "mdss = []\n",
    "labels = []\n",
    "mdss.append(\"issdm-12\")\n",
    "print mdss\n",
    "\n",
    "# setup the MDS labels for graphing\n",
    "for i in range(0, len(mdss)):\n",
    "    labels.append(\"MDS\" + str(i))\n",
    "    \n",
    "# graph settings\n",
    "PLT_ARGS = {'linewidth': 2.0}\n",
    "PNG_ARGS = {'dpi': 300, 'bbox_inches': 'tight'}\n",
    "PARSEARG = {'engine': 'python', 'header': None, 'sep': (\",|:\"), 'skiprows': 13}\n",
    "\n",
    "def mds_label(fname, metric):\n",
    "    return \"blah\"\n",
    "    rank = os.path.basename(fname)\n",
    "    rank = rank.strip('.out').strip(metric+'-')\n",
    "    rank = mdss.index(rank)\n",
    "    site = os.path.dirname(fname)\n",
    "    site = os.path.dirname(site)\n",
    "    return \"MDS\"+str(rank)+\"-\"+site\n",
    "\n",
    "def site_label(fname):\n",
    "    return os.path.dirname(fname)\n",
    "\n",
    "# read in traces and find first timestamp\n",
    "def read_traces(fnames, metric):\n",
    "    min_ts = 1.7976931348623157e+308\n",
    "    PARSEARG['names'] = (\"seconds\", metric)\n",
    "    traces = {}\n",
    "    for f in fnames:\n",
    "        try:                                         # in case trace has no data\n",
    "            traces[f] = pd.read_table(f, **PARSEARG) # read with parser specified by PARSE_ARGS\n",
    "            if traces[f]['seconds'][0] < min_ts:     # find minimum timestamp\n",
    "                min_ts = traces[f]['seconds'][0]\n",
    "        except:\n",
    "            pass\n",
    "    return traces, min_ts\n",
    "\n",
    "# plot the metrics over time in MDS rank order\n",
    "def plot_whisperdb(fnames):\n",
    "    if 'cpu' in fnames[0]: metric = 'cpu'\n",
    "    else: metric = 'reply'\n",
    "    \n",
    "    prev_df = None\n",
    "    traces, min_ts = read_traces(fnames, metric)\n",
    "    #ax = plt.figure().add_subplot(111)\n",
    "    for mds in mdss:\n",
    "        for f in traces:\n",
    "            if mds in f:\n",
    "                t = traces[f]\n",
    "                t = t[t.seconds != 0]    # ignore timestamps carbon did't get any metrics \n",
    "                if metric == 'reply':\n",
    "                    t['shifted'] = t['reply'].shift(1)\n",
    "                else:\n",
    "                    t['shifted'] = 0\n",
    "                #ax.plot(t['seconds'] - min_ts,   # slide x axis to start at 0\n",
    "                #        t[metric] - t['shifted'],               # plot the raw cpu \n",
    "                #        label=mds_label(f, metric),         \n",
    "                #        **PLT_ARGS)\n",
    "                if prev_df is None:\n",
    "                    prev_df = pd.DataFrame()\n",
    "                    prev_df[metric] = t[metric] - t['shifted']\n",
    "                    prev_df['seconds'] = t['seconds'] - min_ts\n",
    "                else:\n",
    "                    prev_df[metric] = prev_df[metric] + t[metric] - t['shifted']\n",
    "\n",
    "    ax = plt.figure().add_subplot(111)\n",
    "    ax.plot(prev_df['seconds'], prev_df[metric], **PLT_ARGS)\n",
    "    #print prev_df.head()\n",
    "    ax.legend(loc='upper left')\n",
    "    ax.legend(bbox_to_anchor=(1.7, 1.05))\n",
    "    return ax"
   ]
  },
  {
   "cell_type": "code",
   "execution_count": 9,
   "metadata": {
    "collapsed": false
   },
   "outputs": [
    {
     "data": {
      "image/png": "[encoded data removed]",
      "text/plain": [
       "<matplotlib.figure.Figure at 0x7f406b721cd0>"
      ]
     },
     "metadata": {},
     "output_type": "display_data"
    }
   ],
   "source": [
    "fnames = sorted(glob.glob(\"readdir-zoom-cpu/utilization/issdm-12.out\"))\n",
    "ax = plot_whisperdb(fnames)"
   ]
  },
  {
   "cell_type": "code",
   "execution_count": 12,
   "metadata": {
    "collapsed": false
   },
   "outputs": [
    {
     "name": "stdout",
     "output_type": "stream",
     "text": [
      "0\n",
      "100\n",
      "200\n",
      "300\n",
      "400\n",
      "500\n",
      "600\n",
      "700\n",
      "800\n",
      "900\n",
      "1000\n",
      "1100\n",
      "1200\n",
      "1300\n",
      "1400\n",
      "1500\n",
      "1600\n",
      "1700\n",
      "1800\n",
      "1900\n",
      "2000\n",
      "2100\n",
      "2200\n",
      "2294\n"
     ]
    }
   ],
   "source": [
    "creates = pd.read_table(\"readdir-zoom-cpu/creates\", sep=\" \", index_col=False)\n",
    "creates.head()\n",
    "creates['x'] = 0\n",
    "for index, row in creates.iterrows():\n",
    "    h, m, s = row['#time'].split(':')\n",
    "    if index % 100 == 0:\n",
    "        print index\n",
    "    creates['x'][index] = 60.0*60.0*float(h) + 60.0*float(m) + float(s)"
   ]
  },
  {
   "cell_type": "code",
   "execution_count": 16,
   "metadata": {
    "collapsed": false
   },
   "outputs": [
    {
     "data": {
      "text/html": [
       "<div>\n",
       "<table border=\"1\" class=\"dataframe\">\n",
       "  <thead>\n",
       "    <tr style=\"text-align: right;\">\n",
       "      <th></th>\n",
       "      <th>time</th>\n",
       "      <th>nrequests</th>\n",
       "      <th>latency</th>\n",
       "      <th>average</th>\n",
       "      <th>x</th>\n",
       "    </tr>\n",
       "  </thead>\n",
       "  <tbody>\n",
       "    <tr>\n",
       "      <th>0</th>\n",
       "      <td>05:50:43</td>\n",
       "      <td>0</td>\n",
       "      <td>NaN</td>\n",
       "      <td>0.000000</td>\n",
       "      <td>21043</td>\n",
       "    </tr>\n",
       "    <tr>\n",
       "      <th>1</th>\n",
       "      <td>05:50:44</td>\n",
       "      <td>922</td>\n",
       "      <td>0.114463</td>\n",
       "      <td>0.000000</td>\n",
       "      <td>21044</td>\n",
       "    </tr>\n",
       "    <tr>\n",
       "      <th>2</th>\n",
       "      <td>05:50:45</td>\n",
       "      <td>78</td>\n",
       "      <td>1.900393</td>\n",
       "      <td>0.000000</td>\n",
       "      <td>21045</td>\n",
       "    </tr>\n",
       "    <tr>\n",
       "      <th>3</th>\n",
       "      <td>05:50:46</td>\n",
       "      <td>0</td>\n",
       "      <td>NaN</td>\n",
       "      <td>1.900393</td>\n",
       "      <td>21046</td>\n",
       "    </tr>\n",
       "    <tr>\n",
       "      <th>4</th>\n",
       "      <td>05:50:47</td>\n",
       "      <td>0</td>\n",
       "      <td>NaN</td>\n",
       "      <td>1.900393</td>\n",
       "      <td>21047</td>\n",
       "    </tr>\n",
       "  </tbody>\n",
       "</table>\n",
       "</div>"
      ],
      "text/plain": [
       "       time  nrequests   latency   average      x\n",
       "0  05:50:43          0       NaN  0.000000  21043\n",
       "1  05:50:44        922  0.114463  0.000000  21044\n",
       "2  05:50:45         78  1.900393  0.000000  21045\n",
       "3  05:50:46          0       NaN  1.900393  21046\n",
       "4  05:50:47          0       NaN  1.900393  21047"
      ]
     },
     "execution_count": 16,
     "metadata": {},
     "output_type": "execute_result"
    },
    {
     "data": {
      "image/png": "[encoded data removed]",
      "text/plain": [
       "<matplotlib.figure.Figure at 0x7f599cc16d10>"
      ]
     },
     "metadata": {},
     "output_type": "display_data"
    }
   ],
   "source": []
  },
  {
   "cell_type": "code",
   "execution_count": 15,
   "metadata": {
    "collapsed": false
   },
   "outputs": [
    {
     "name": "stdout",
     "output_type": "stream",
     "text": [
      "0\n",
      "100\n",
      "200\n",
      "300\n",
      "400\n",
      "500\n",
      "600\n",
      "700\n",
      "800\n",
      "900\n",
      "1000\n",
      "1100\n",
      "1200\n",
      "1300\n",
      "1400\n",
      "1500\n",
      "1600\n",
      "1660\n"
     ]
    }
   ],
   "source": [
    "readdir = pd.read_table(\"readdir-zoom/readdir\", sep=\" \", index_col=False)\n",
    "readdir.head()\n",
    "readdir['x'] = 0\n",
    "for index, row in readdir.iterrows():\n",
    "    h, m, s = row['#time'].split(':')\n",
    "    if index % 100 == 0:\n",
    "        print index\n",
    "    readdir['x'][index] = 60.0*60.0*float(h) + 60.0*float(m) + float(s)\n",
    "print len(readdir.index)   "
   ]
  },
  {
   "cell_type": "code",
   "execution_count": 16,
   "metadata": {
    "collapsed": false
   },
   "outputs": [
    {
     "data": {
      "text/html": [
       "<div>\n",
       "<table border=\"1\" class=\"dataframe\">\n",
       "  <thead>\n",
       "    <tr style=\"text-align: right;\">\n",
       "      <th></th>\n",
       "      <th>#time</th>\n",
       "      <th>nrequests</th>\n",
       "      <th>latency</th>\n",
       "      <th>average</th>\n",
       "      <th>x</th>\n",
       "    </tr>\n",
       "  </thead>\n",
       "  <tbody>\n",
       "    <tr>\n",
       "      <th>0</th>\n",
       "      <td>06:30:13</td>\n",
       "      <td>0</td>\n",
       "      <td>NaN</td>\n",
       "      <td>0.000000</td>\n",
       "      <td>23413</td>\n",
       "    </tr>\n",
       "    <tr>\n",
       "      <th>1</th>\n",
       "      <td>06:30:14</td>\n",
       "      <td>1</td>\n",
       "      <td>14.600705</td>\n",
       "      <td>0.000000</td>\n",
       "      <td>23414</td>\n",
       "    </tr>\n",
       "    <tr>\n",
       "      <th>2</th>\n",
       "      <td>06:30:15</td>\n",
       "      <td>0</td>\n",
       "      <td>NaN</td>\n",
       "      <td>14.600705</td>\n",
       "      <td>23415</td>\n",
       "    </tr>\n",
       "    <tr>\n",
       "      <th>3</th>\n",
       "      <td>06:30:16</td>\n",
       "      <td>0</td>\n",
       "      <td>NaN</td>\n",
       "      <td>14.600705</td>\n",
       "      <td>23416</td>\n",
       "    </tr>\n",
       "    <tr>\n",
       "      <th>4</th>\n",
       "      <td>06:30:17</td>\n",
       "      <td>0</td>\n",
       "      <td>NaN</td>\n",
       "      <td>14.600705</td>\n",
       "      <td>23417</td>\n",
       "    </tr>\n",
       "  </tbody>\n",
       "</table>\n",
       "</div>"
      ],
      "text/plain": [
       "      #time  nrequests    latency    average      x\n",
       "0  06:30:13          0        NaN   0.000000  23413\n",
       "1  06:30:14          1  14.600705   0.000000  23414\n",
       "2  06:30:15          0        NaN  14.600705  23415\n",
       "3  06:30:16          0        NaN  14.600705  23416\n",
       "4  06:30:17          0        NaN  14.600705  23417"
      ]
     },
     "execution_count": 16,
     "metadata": {},
     "output_type": "execute_result"
    },
    {
     "data": {
      "image/png": "[encoded data removed]",
      "text/plain": [
       "<matplotlib.figure.Figure at 0x7f406b8e7950>"
      ]
     },
     "metadata": {},
     "output_type": "display_data"
    }
   ],
   "source": [
    "ax = plt.figure().add_subplot(111)\n",
    "ax.plot(creates['x'], creates['nrequests'])\n",
    "ax.plot(readdir['x'], readdir['nrequests'])\n",
    "readdir.head()"
   ]
  },
  {
   "cell_type": "code",
   "execution_count": 17,
   "metadata": {
    "collapsed": false
   },
   "outputs": [
    {
     "data": {
      "text/plain": [
       "(0, 200)"
      ]
     },
     "execution_count": 17,
     "metadata": {},
     "output_type": "execute_result"
    },
    {
     "data": {
      "image/png": "[encoded data removed]",
      "text/plain": [
       "<matplotlib.figure.Figure at 0x7f406b803a50>"
      ]
     },
     "metadata": {},
     "output_type": "display_data"
    }
   ],
   "source": [
    "ax = plt.figure().add_subplot(111)\n",
    "ax.plot(creates['x'], creates['latency'])\n",
    "ax.plot(readdir['x'], readdir['latency'])\n",
    "ax.set_ylim(0, 200)"
   ]
  },
  {
   "cell_type": "code",
   "execution_count": 16,
   "metadata": {
    "collapsed": false
   },
   "outputs": [
    {
     "name": "stdout",
     "output_type": "stream",
     "text": [
      "0\n",
      "100\n",
      "200\n",
      "300\n",
      "400\n",
      "500\n",
      "600\n",
      "700\n",
      "800\n",
      "900\n",
      "1000\n",
      "1100\n",
      "1200\n",
      "1300\n",
      "1400\n",
      "1500\n",
      "1600\n",
      "1628\n"
     ]
    }
   ],
   "source": [
    "readdir = pd.read_table(\"scale-clients/8client/readdir\", sep=\" \", index_col=False)\n",
    "readdir.head()\n",
    "readdir['x'] = 0\n",
    "for index, row in readdir.iterrows():\n",
    "    h, m, s = row['#time'].split(':')\n",
    "    if index % 100 == 0:\n",
    "        print index\n",
    "    readdir['x'][index] = 60.0*60.0*float(h) + 60.0*float(m) + float(s)\n",
    "print len(readdir.index)   \n",
    "\n",
    "#ax = plt.figure().add_subplot(111)\n",
    "#ax.plot(creates['x'], creates['latency'])\n",
    "#ax.plot(readdir['x'], readdir['latency'])\n",
    "#ax.set_ylim(0, 200)"
   ]
  },
  {
   "cell_type": "code",
   "execution_count": 29,
   "metadata": {
    "collapsed": false
   },
   "outputs": [
    {
     "data": {
      "text/plain": [
       "(85000, 86000)"
      ]
     },
     "execution_count": 29,
     "metadata": {},
     "output_type": "execute_result"
    },
    {
     "data": {
      "image/png": "[encoded data removed]",
      "text/plain": [
       "<matplotlib.figure.Figure at 0x7fced28902d0>"
      ]
     },
     "metadata": {},
     "output_type": "display_data"
    }
   ],
   "source": [
    "ax = plt.figure().add_subplot(111)\n",
    "ax.plot(readdir['x'], readdir['latency'], markersize=100, linewidth=1.0)\n",
    "ax.set_ylim(0, 5)\n",
    "ax.set_xlim(85000, 86000)"
   ]
  },
  {
   "cell_type": "code",
   "execution_count": null,
   "metadata": {
    "collapsed": true
   },
   "outputs": [],
   "source": []
  }
 ],
 "metadata": {
  "kernelspec": {
   "display_name": "Python 2",
   "language": "python",
   "name": "python2"
  },
  "language_info": {
   "codemirror_mode": {
    "name": "ipython",
    "version": 2
   },
   "file_extension": ".py",
   "mimetype": "text/x-python",
   "name": "python",
   "nbconvert_exporter": "python",
   "pygments_lexer": "ipython2",
   "version": "2.7.11"
  },
  "widgets": {
   "state": {},
   "version": "1.1.2"
  }
 },
 "nbformat": 4,
 "nbformat_minor": 0
}
